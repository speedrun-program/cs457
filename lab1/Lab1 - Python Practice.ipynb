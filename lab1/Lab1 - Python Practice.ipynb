{
 "cells": [
  {
   "cell_type": "markdown",
   "metadata": {},
   "source": [
    "# Exercises with Python"
   ]
  },
  {
   "cell_type": "code",
   "execution_count": 602,
   "metadata": {},
   "outputs": [],
   "source": [
    "import numpy as np\n",
    "import matplotlib.pyplot as plt\n",
    "import pandas as pd"
   ]
  },
  {
   "cell_type": "markdown",
   "metadata": {},
   "source": [
    "## Exercise 1 - Numpy\n",
    "#### Creat an array of 450 random integers between -10 and 10"
   ]
  },
  {
   "cell_type": "code",
   "execution_count": 604,
   "metadata": {},
   "outputs": [
    {
     "data": {
      "text/plain": [
       "array([  7,   9,   5,  -1,  -1,   2,   1,   5,   1,  -7,  -6,  -3,  -4,\n",
       "        10,  -6,   0,   6,   5,  -8,  -6,  -7,   8,   2,   9,   5,   1,\n",
       "         3,   8,   6,   7,   4,   0,   3,   3,  -2,  -9,  -9,   4,  -7,\n",
       "         5,  -1,  -5,  -6,   6,  -4,   6, -10,  -7,   6,  -6,   4, -10,\n",
       "        -9,  -9,  -9,  -3, -10,   2,   6,   2,  -1,  10, -10,   8,  -6,\n",
       "         1,  -3,   7,  -2,   6, -10,  -6,   8,  -8,   6,  -8,   2,  10,\n",
       "        -7,  -1,   6,  -8,  -5,   1,   1,  -7,  -9,   2,  -9,  -2,   8,\n",
       "        -8,  -9,  -7,   0,   3,  -5,   5,  -4,  -4,  -2,  -9, -10,   8,\n",
       "         7,   7,   5,  10,  -9,  -2,  10,  -9,   8,  -2,   3,  -8,   5,\n",
       "        -2, -10,  10,  -8,   1,   9,   0, -10,   4,  10,   7,  -2,  -9,\n",
       "        -6,   0,  -6,  -1,   5,  -1,  -1,  -5,   8,   5,   1, -10,  -1,\n",
       "        -9,   3,   8,  -6,   2,   9,   5,   4,   7,   4,  -7,   5, -10,\n",
       "        10,   1,   1,   0,  -3,   2,  -8,   9,  -1,  -2,   2,   0,   6,\n",
       "         5,  -9,   7,   7,  -7,   8,   0,  -2,   9,  -6,   0,   6,  -4,\n",
       "         1,  -2,  -3,  -3,   6,  -2,   3,  -8,  -2,  -2,  10,  -9,   3,\n",
       "         0,   9,   2,  -4,   6,   8,  -4,  -1,  -2,  -6,   4,  -6,  -8,\n",
       "         7,  -6, -10,  -2,  -3,  -9,  -7,   1,  10,   3,  -6,  -9,   1,\n",
       "       -10,   0,  -9,  -5,  -2,  -3,   1,  -9,   9,  -7,   4,  10,  -6,\n",
       "         2,   5, -10,  -2,  -6,   8,   2,  -3,   8,   7,  -9,   8,   6,\n",
       "         8,   3,  10,  -7,   9,  -9,   5,   5,   6,  -9,  -3,  -7,   2,\n",
       "         1,  -9,   6,  -6,  -9,   3,  -5,   9,  -7,  -5,  -9,   7,   0,\n",
       "        -5,   4,   9,  -4,  10,  -5,  10,   9,   7,   9,   7,  -9,   4,\n",
       "        10,   9, -10,  -4,  10,  -2,   4,   8,  10,  -7,  -5,   1,   4,\n",
       "        -6,   2,   5,  10,   9,  -6,  -3,   8,   4,   0,  -2,  -7,   7,\n",
       "         5,   5,  -4,   8,   7,  10,   9,   6,   4,  -8,   6,   0,   5,\n",
       "        -4,  -3,  -3,  -8, -10,   2,   9,  -8,   7,   0,   2,   5,  -5,\n",
       "        -7,  -8,  -5,  -7,   7,   0,   6,   4,   9,   0,   7,  -2,  -6,\n",
       "         2,   2,  -4,  -7,   9,  -7,  -6,  -5,  10,  10,  -4,  -3,   6,\n",
       "         9,  -8,  -5,   7,  -5,  -9, -10,   9,   8,  -8,  -5,   9,  10,\n",
       "        -1,  -3,   0, -10,  -9,  -3,  -9, -10,   2,  -3,   9,   3,  -2,\n",
       "       -10,  -7,   8,   1,   2,  -4,  -8,   8,  -1,  -1,   7,  -6,   7,\n",
       "         7, -10,   7,  -9,  -3,  10,   3,   2,   0,   1,  -2,   2,  -9,\n",
       "        -8,   8,  10,  10,  -7,  -1,  10,   6,  -6,   0,  -6,  -6,   4,\n",
       "         1,   9,   3, -10,   9,  -6,  -4,  -5,  -5,  10,   1,  -9,  -2,\n",
       "        -5,  -2,  10,  -1,   7, -10,  -2,   4])"
      ]
     },
     "execution_count": 604,
     "metadata": {},
     "output_type": "execute_result"
    }
   ],
   "source": [
    "# Your code: \n",
    "\n",
    "array = np.random.randint(-10, 11, 450)\n",
    "\n",
    "array"
   ]
  },
  {
   "cell_type": "markdown",
   "metadata": {},
   "source": [
    "#### Resize the above array as a 5x70 matrix. \n",
    "#### Is there a problem? \n",
    "\n",
    "#### If there is, correct it to a suitable shape.\n",
    "\n",
    "We check what dimension our array has:"
   ]
  },
  {
   "cell_type": "code",
   "execution_count": 606,
   "metadata": {},
   "outputs": [
    {
     "name": "stdout",
     "output_type": "stream",
     "text": [
      "(450,)\n",
      "ValueError caught\n"
     ]
    }
   ],
   "source": [
    "# Your code:\n",
    "\n",
    "print(array.shape)\n",
    "\n",
    "try:\n",
    "    new_matrix = np.reshape(array, (5, 70))\n",
    "except ValueError:\n",
    "    print(\"ValueError caught\")\n",
    "\n",
    "\n",
    "# Is there a problem? why?\n",
    "# The array isn't big enough to be reshaped into a 5x70 matrix"
   ]
  },
  {
   "cell_type": "markdown",
   "metadata": {},
   "source": [
    "We resize:"
   ]
  },
  {
   "cell_type": "code",
   "execution_count": 608,
   "metadata": {},
   "outputs": [
    {
     "data": {
      "text/plain": [
       "array([[  7,   9,   5,  -1,  -1,   2,   1,   5,   1,  -7,  -6,  -3,  -4,\n",
       "         10,  -6,   0,   6,   5,  -8,  -6,  -7,   8,   2,   9,   5,   1,\n",
       "          3,   8,   6,   7,   4,   0,   3,   3,  -2,  -9,  -9,   4,  -7,\n",
       "          5,  -1,  -5,  -6,   6,  -4,   6, -10,  -7,   6,  -6,   4, -10,\n",
       "         -9,  -9,  -9,  -3, -10,   2,   6,   2,  -1,  10, -10,   8,  -6,\n",
       "          1,  -3,   7,  -2,   6, -10,  -6,   8,  -8,   6,  -8,   2,  10,\n",
       "         -7,  -1,   6,  -8,  -5,   1,   1,  -7,  -9,   2,  -9,  -2],\n",
       "       [  8,  -8,  -9,  -7,   0,   3,  -5,   5,  -4,  -4,  -2,  -9, -10,\n",
       "          8,   7,   7,   5,  10,  -9,  -2,  10,  -9,   8,  -2,   3,  -8,\n",
       "          5,  -2, -10,  10,  -8,   1,   9,   0, -10,   4,  10,   7,  -2,\n",
       "         -9,  -6,   0,  -6,  -1,   5,  -1,  -1,  -5,   8,   5,   1, -10,\n",
       "         -1,  -9,   3,   8,  -6,   2,   9,   5,   4,   7,   4,  -7,   5,\n",
       "        -10,  10,   1,   1,   0,  -3,   2,  -8,   9,  -1,  -2,   2,   0,\n",
       "          6,   5,  -9,   7,   7,  -7,   8,   0,  -2,   9,  -6,   0],\n",
       "       [  6,  -4,   1,  -2,  -3,  -3,   6,  -2,   3,  -8,  -2,  -2,  10,\n",
       "         -9,   3,   0,   9,   2,  -4,   6,   8,  -4,  -1,  -2,  -6,   4,\n",
       "         -6,  -8,   7,  -6, -10,  -2,  -3,  -9,  -7,   1,  10,   3,  -6,\n",
       "         -9,   1, -10,   0,  -9,  -5,  -2,  -3,   1,  -9,   9,  -7,   4,\n",
       "         10,  -6,   2,   5, -10,  -2,  -6,   8,   2,  -3,   8,   7,  -9,\n",
       "          8,   6,   8,   3,  10,  -7,   9,  -9,   5,   5,   6,  -9,  -3,\n",
       "         -7,   2,   1,  -9,   6,  -6,  -9,   3,  -5,   9,  -7,  -5],\n",
       "       [ -9,   7,   0,  -5,   4,   9,  -4,  10,  -5,  10,   9,   7,   9,\n",
       "          7,  -9,   4,  10,   9, -10,  -4,  10,  -2,   4,   8,  10,  -7,\n",
       "         -5,   1,   4,  -6,   2,   5,  10,   9,  -6,  -3,   8,   4,   0,\n",
       "         -2,  -7,   7,   5,   5,  -4,   8,   7,  10,   9,   6,   4,  -8,\n",
       "          6,   0,   5,  -4,  -3,  -3,  -8, -10,   2,   9,  -8,   7,   0,\n",
       "          2,   5,  -5,  -7,  -8,  -5,  -7,   7,   0,   6,   4,   9,   0,\n",
       "          7,  -2,  -6,   2,   2,  -4,  -7,   9,  -7,  -6,  -5,  10],\n",
       "       [ 10,  -4,  -3,   6,   9,  -8,  -5,   7,  -5,  -9, -10,   9,   8,\n",
       "         -8,  -5,   9,  10,  -1,  -3,   0, -10,  -9,  -3,  -9, -10,   2,\n",
       "         -3,   9,   3,  -2, -10,  -7,   8,   1,   2,  -4,  -8,   8,  -1,\n",
       "         -1,   7,  -6,   7,   7, -10,   7,  -9,  -3,  10,   3,   2,   0,\n",
       "          1,  -2,   2,  -9,  -8,   8,  10,  10,  -7,  -1,  10,   6,  -6,\n",
       "          0,  -6,  -6,   4,   1,   9,   3, -10,   9,  -6,  -4,  -5,  -5,\n",
       "         10,   1,  -9,  -2,  -5,  -2,  10,  -1,   7, -10,  -2,   4]])"
      ]
     },
     "execution_count": 608,
     "metadata": {},
     "output_type": "execute_result"
    }
   ],
   "source": [
    "corrected_matrix = np.reshape(array, (5, 90))\n",
    "\n",
    "corrected_matrix"
   ]
  },
  {
   "cell_type": "markdown",
   "metadata": {},
   "source": [
    "#### Choose values greater than 0 from your corrected_matrix."
   ]
  },
  {
   "cell_type": "code",
   "execution_count": 610,
   "metadata": {},
   "outputs": [
    {
     "data": {
      "text/plain": [
       "array([ 7,  9,  5,  2,  1,  5,  1, 10,  6,  5,  8,  2,  9,  5,  1,  3,  8,\n",
       "        6,  7,  4,  3,  3,  4,  5,  6,  6,  6,  4,  2,  6,  2, 10,  8,  1,\n",
       "        7,  6,  8,  6,  2, 10,  6,  1,  1,  2,  8,  3,  5,  8,  7,  7,  5,\n",
       "       10, 10,  8,  3,  5, 10,  1,  9,  4, 10,  7,  5,  8,  5,  1,  3,  8,\n",
       "        2,  9,  5,  4,  7,  4,  5, 10,  1,  1,  2,  9,  2,  6,  5,  7,  7,\n",
       "        8,  9,  6,  1,  6,  3, 10,  3,  9,  2,  6,  8,  4,  7,  1, 10,  3,\n",
       "        1,  1,  9,  4, 10,  2,  5,  8,  2,  8,  7,  8,  6,  8,  3, 10,  9,\n",
       "        5,  5,  6,  2,  1,  6,  3,  9,  7,  4,  9, 10, 10,  9,  7,  9,  7,\n",
       "        4, 10,  9, 10,  4,  8, 10,  1,  4,  2,  5, 10,  9,  8,  4,  7,  5,\n",
       "        5,  8,  7, 10,  9,  6,  4,  6,  5,  2,  9,  7,  2,  5,  7,  6,  4,\n",
       "        9,  7,  2,  2,  9, 10, 10,  6,  9,  7,  9,  8,  9, 10,  2,  9,  3,\n",
       "        8,  1,  2,  8,  7,  7,  7,  7, 10,  3,  2,  1,  2,  8, 10, 10, 10,\n",
       "        6,  4,  1,  9,  3,  9, 10,  1, 10,  7,  4])"
      ]
     },
     "execution_count": 610,
     "metadata": {},
     "output_type": "execute_result"
    }
   ],
   "source": [
    "above_zero = corrected_matrix[corrected_matrix > 0]\n",
    "\n",
    "above_zero"
   ]
  },
  {
   "cell_type": "markdown",
   "metadata": {},
   "source": [
    "#### Given this array x = np.array ([- 5,6, -7,9]), create another array in absolute value "
   ]
  },
  {
   "cell_type": "code",
   "execution_count": 612,
   "metadata": {},
   "outputs": [
    {
     "data": {
      "text/plain": [
       "array([5, 6, 7, 9])"
      ]
     },
     "execution_count": 612,
     "metadata": {},
     "output_type": "execute_result"
    }
   ],
   "source": [
    "# your code:\n",
    "x = np.array([-5, 6, -7, 9])\n",
    "\n",
    "abs_x = np.abs(x)\n",
    "\n",
    "abs_x"
   ]
  },
  {
   "cell_type": "markdown",
   "metadata": {},
   "source": [
    "#### Given this array x = np.array ([- 5,6, -7,9]), transform it into a 2x2 matrix and calculate the maximum and minimum of each row and column. "
   ]
  },
  {
   "cell_type": "code",
   "execution_count": 614,
   "metadata": {},
   "outputs": [
    {
     "name": "stdout",
     "output_type": "stream",
     "text": [
      "maximums by row: [6 9]\n",
      "minimums by row: [-5 -7]\n",
      "maximums by column: [-5  9]\n",
      "minimums by column: [-7  6]\n"
     ]
    },
    {
     "data": {
      "text/plain": [
       "array([[-5,  6],\n",
       "       [-7,  9]])"
      ]
     },
     "execution_count": 614,
     "metadata": {},
     "output_type": "execute_result"
    }
   ],
   "source": [
    "# your code:\n",
    "x = np.array([-5, 6, -7, 9])\n",
    "\n",
    "x_reshaped = np.reshape(x, (2, 2))\n",
    "\n",
    "max_by_row = np.max(x_reshaped, 1)\n",
    "min_by_row = np.min(x_reshaped, 1)\n",
    "max_by_col = np.max(x_reshaped, 0)\n",
    "min_by_col = np.min(x_reshaped, 0)\n",
    "\n",
    "print(\"maximums by row:\", max_by_row)\n",
    "print(\"minimums by row:\", min_by_row)\n",
    "print(\"maximums by column:\", max_by_col)\n",
    "print(\"minimums by column:\", min_by_col)\n",
    "\n",
    "x_reshaped"
   ]
  },
  {
   "cell_type": "markdown",
   "metadata": {},
   "source": [
    "#### Create a matrix of ones with 3x3 range as a_ones, and modify the the a_ones[1][0] = 3  "
   ]
  },
  {
   "cell_type": "code",
   "execution_count": 616,
   "metadata": {},
   "outputs": [
    {
     "data": {
      "text/plain": [
       "array([[1, 1, 1],\n",
       "       [3, 1, 1],\n",
       "       [1, 1, 1]])"
      ]
     },
     "execution_count": 616,
     "metadata": {},
     "output_type": "execute_result"
    }
   ],
   "source": [
    "# your code:\n",
    "\n",
    "a_ones = np.full((3, 3), 1)\n",
    "\n",
    "a_ones[1][0] = 3\n",
    "\n",
    "a_ones"
   ]
  },
  {
   "cell_type": "markdown",
   "metadata": {},
   "source": [
    "#### Compute dot product for a_ones and x_reshaped"
   ]
  },
  {
   "cell_type": "code",
   "execution_count": 618,
   "metadata": {},
   "outputs": [
    {
     "data": {
      "text/plain": [
       "array([[-12,  15],\n",
       "       [-26,  33],\n",
       "       [-12,  15]])"
      ]
     },
     "execution_count": 618,
     "metadata": {},
     "output_type": "execute_result"
    }
   ],
   "source": [
    "# your code\n",
    "\n",
    "# resized so it will work with np.dot(a_ones, x_reshaped)\n",
    "a_ones = np.resize(a_ones, (3, 2))\n",
    "\n",
    "\"\"\"\n",
    "a_ones:\n",
    "[[1, 1],\n",
    " [1, 3],\n",
    " [1, 1]]\n",
    "\n",
    "x_reshaped:\n",
    "[[-5,  6],\n",
    " [-7,  9]]\n",
    "\"\"\"\n",
    "\n",
    "dot_product = np.dot(a_ones, x_reshaped)\n",
    "\n",
    "\n",
    "# List the mathematical calculation steps\n",
    "\"\"\"\n",
    "[[1*-5 + 1*-7, 1*6 + 1*9],\n",
    " [1*-5 + 3*-7, 1*6 + 3*9],\n",
    " [1*-5 + 1*-7, 1*6 + 1*9]]\n",
    "\"\"\"\n",
    "dot_product"
   ]
  },
  {
   "cell_type": "markdown",
   "metadata": {},
   "source": [
    "## Exercise 2 - Plot Practice"
   ]
  },
  {
   "cell_type": "markdown",
   "metadata": {},
   "source": [
    "#### Undergraduate student Instructions (CS457)\n",
    "\n",
    "- Let's think if we have this function: f (t) defined by: f (t) = 2t / (1 + t ^ 2) ^ 2 with t> 0.\n",
    "- Where t could be generated by np.linspace(0,10,100)\n",
    "- Provide plot results"
   ]
  },
  {
   "cell_type": "code",
   "execution_count": 621,
   "metadata": {},
   "outputs": [],
   "source": [
    "# Your code:\n",
    "t = np.linspace(0, 10, 100)\n",
    "\n",
    "y = (2 * t) / (1 + t**2)**2"
   ]
  },
  {
   "cell_type": "code",
   "execution_count": 622,
   "metadata": {},
   "outputs": [
    {
     "data": {
      "image/png": "[encoded data removed]",
      "text/plain": [
       "<Figure size 640x480 with 1 Axes>"
      ]
     },
     "metadata": {},
     "output_type": "display_data"
    }
   ],
   "source": [
    "# Plot graph with x, y and label set the fontsize = 14\n",
    "# Plot <Your Name> + title and set the fontsize = 14\n",
    "# plot size as (8,5)\n",
    "# plot with legend\n",
    "# plot with grid\n",
    "\n",
    "plt.plot(t, y)\n",
    "\n",
    "plt.title(\"Jack + Graph of $y = \\\\frac{2t}{(1+t^2)^2}$\", fontsize=14)\n",
    "\n",
    "plt.show()"
   ]
  },
  {
   "cell_type": "markdown",
   "metadata": {},
   "source": [
    "#### Graduate student Instructions (CS557)\n",
    "\n",
    "- Let's think if we have this function: f (t) defined by: f (t) = 2t / (1 + t ^ 2) ^ 2 with t> 0.\n",
    "- Where t could be generated by np.linspace(0,10,100)\n",
    "- Provide line graph with mask = star\n",
    "- Provide bar graph with any 5 points data"
   ]
  },
  {
   "cell_type": "code",
   "execution_count": 624,
   "metadata": {},
   "outputs": [],
   "source": [
    "# Your code:\n"
   ]
  },
  {
   "cell_type": "code",
   "execution_count": 625,
   "metadata": {},
   "outputs": [
    {
     "data": {
      "image/png": "[encoded data removed]",
      "text/plain": [
       "<Figure size 640x480 with 1 Axes>"
      ]
     },
     "metadata": {},
     "output_type": "display_data"
    }
   ],
   "source": [
    "# Line Graph\n",
    "# Plot graph with x, y and label set the fontsize = 14\n",
    "# Plot <Your Name> + title and set the fontsize = 14\n",
    "# plot size as (8,5)\n",
    "# plot with legend\n",
    "# plot with grid\n",
    "\n",
    "\n",
    "plt.title(\"<Your Name> + Graph of $y = \\\\frac{2x}{(1+x^2)^2}$\", fontsize=14)\n",
    "\n",
    "plt.show()"
   ]
  },
  {
   "cell_type": "code",
   "execution_count": 626,
   "metadata": {},
   "outputs": [
    {
     "data": {
      "image/png": "[encoded data removed]",
      "text/plain": [
       "<Figure size 640x480 with 1 Axes>"
      ]
     },
     "metadata": {},
     "output_type": "display_data"
    }
   ],
   "source": [
    "# Bar Graph\n",
    "# Plot graph with x, y and label set the fontsize = 14\n",
    "# Plot <Your Name> + title and set the fontsize = 14\n",
    "# plot size as (8,5)\n",
    "# plot with legend\n",
    "# plot with grid\n",
    "\n",
    "\n",
    "plt.title(\"<Your Name> + Graph of $y = \\\\frac{2x}{(1+x^2)^2}$\", fontsize=14)\n",
    "\n",
    "plt.show()"
   ]
  },
  {
   "cell_type": "markdown",
   "metadata": {},
   "source": [
    "# Exercise 3 - Pandas "
   ]
  },
  {
   "cell_type": "markdown",
   "metadata": {},
   "source": [
    "#### You have obtained a piece of data about a hill. Please manually assign this data to a dictionary.\n",
    "\n",
    "\n",
    "\"Hill Name\": [\"Everest\", \"K2\", \"Kangchenjunga\", \"Lhotse\", \"Makalu\", \"Cho Oyu\", \"Dhaulagiri\", \"Manaslu\", \"Nanga Parbat\", \"Annapurna\"],\n",
    "\n",
    "\"Height (m)\": [8848, 8611, 8586, 8516, 8485, 8188, 8167, 8163, 8126, 8091],\n",
    "\n",
    "\"Location\": [\"Nepal/China\", \"Pakistan/China\", \"Nepal/India\", \"Nepal/China\", \"Nepal/China\", \"Nepal/China\", \"Nepal\", \"Nepal\", \"Pakistan\", \"Nepal\"],\n",
    "\n",
    "\"First Ascent Year\": [1953, 1954, 1955, 1956, 1955, 1954, 1960, 1956, 1953, 1950],\n",
    "\n",
    "\"Prominence (m)\": [8848, 4017, 3922, 610, 2378, 2340, 3357, 3092, 4608, 2984]\n"
   ]
  },
  {
   "cell_type": "code",
   "execution_count": 629,
   "metadata": {},
   "outputs": [
    {
     "data": {
      "text/plain": [
       "{'hill name': ('Everest',\n",
       "  'K2',\n",
       "  'Kangchenjunga',\n",
       "  'Lhotse',\n",
       "  'Makalu',\n",
       "  'Cho Oyu',\n",
       "  'Dhaulagiri',\n",
       "  'Manaslu',\n",
       "  'Nanga Parbat',\n",
       "  'Annapurna'),\n",
       " 'height': (8848, 8611, 8586, 8516, 8485, 8188, 8167, 8163, 8126, 8091),\n",
       " 'location': ('Nepal/China',\n",
       "  'Pakistan/China',\n",
       "  'Nepal/India',\n",
       "  'Nepal/China',\n",
       "  'Nepal/China',\n",
       "  'Nepal/China',\n",
       "  'Nepal',\n",
       "  'Nepal',\n",
       "  'Pakistan',\n",
       "  'Nepal'),\n",
       " 'first ascent year': (1953,\n",
       "  1954,\n",
       "  1955,\n",
       "  1956,\n",
       "  1955,\n",
       "  1954,\n",
       "  1960,\n",
       "  1956,\n",
       "  1953,\n",
       "  1950),\n",
       " 'prominence': (8848, 4017, 3922, 610, 2378, 2340, 3357, 3092, 4608, 2984)}"
      ]
     },
     "execution_count": 629,
     "metadata": {},
     "output_type": "execute_result"
    }
   ],
   "source": [
    "# Your code:\n",
    "\n",
    "hill_name = (\"Everest\", \"K2\", \"Kangchenjunga\", \"Lhotse\", \"Makalu\", \"Cho Oyu\", \"Dhaulagiri\", \"Manaslu\", \"Nanga Parbat\", \"Annapurna\")\n",
    "height = (8848, 8611, 8586, 8516, 8485, 8188, 8167, 8163, 8126, 8091)\n",
    "location = (\"Nepal/China\", \"Pakistan/China\", \"Nepal/India\", \"Nepal/China\", \"Nepal/China\", \"Nepal/China\", \"Nepal\", \"Nepal\", \"Pakistan\", \"Nepal\")\n",
    "first_ascent_year = (1953, 1954, 1955, 1956, 1955, 1954, 1960, 1956, 1953, 1950)\n",
    "prominence = (8848, 4017, 3922, 610, 2378, 2340, 3357, 3092, 4608, 2984)\n",
    "\n",
    "hill_data = {\n",
    "    \"hill name\": hill_name,\n",
    "    \"height\": height,\n",
    "    \"location\": location,\n",
    "    \"first ascent year\": first_ascent_year,\n",
    "    \"prominence\": prominence\n",
    "}\n",
    "\n",
    "hill_data"
   ]
  },
  {
   "cell_type": "markdown",
   "metadata": {},
   "source": [
    "#### Convert your dictionary to a pandas dataframe with name hill_pd"
   ]
  },
  {
   "cell_type": "code",
   "execution_count": 631,
   "metadata": {},
   "outputs": [
    {
     "data": {
      "text/html": [
       "<div>\n",
       "<style scoped>\n",
       "    .dataframe tbody tr th:only-of-type {\n",
       "        vertical-align: middle;\n",
       "    }\n",
       "\n",
       "    .dataframe tbody tr th {\n",
       "        vertical-align: top;\n",
       "    }\n",
       "\n",
       "    .dataframe thead th {\n",
       "        text-align: right;\n",
       "    }\n",
       "</style>\n",
       "<table border=\"1\" class=\"dataframe\">\n",
       "  <thead>\n",
       "    <tr style=\"text-align: right;\">\n",
       "      <th></th>\n",
       "      <th>hill name</th>\n",
       "      <th>height</th>\n",
       "      <th>location</th>\n",
       "      <th>first ascent year</th>\n",
       "      <th>prominence</th>\n",
       "    </tr>\n",
       "  </thead>\n",
       "  <tbody>\n",
       "    <tr>\n",
       "      <th>0</th>\n",
       "      <td>Everest</td>\n",
       "      <td>8848</td>\n",
       "      <td>Nepal/China</td>\n",
       "      <td>1953</td>\n",
       "      <td>8848</td>\n",
       "    </tr>\n",
       "    <tr>\n",
       "      <th>1</th>\n",
       "      <td>K2</td>\n",
       "      <td>8611</td>\n",
       "      <td>Pakistan/China</td>\n",
       "      <td>1954</td>\n",
       "      <td>4017</td>\n",
       "    </tr>\n",
       "    <tr>\n",
       "      <th>2</th>\n",
       "      <td>Kangchenjunga</td>\n",
       "      <td>8586</td>\n",
       "      <td>Nepal/India</td>\n",
       "      <td>1955</td>\n",
       "      <td>3922</td>\n",
       "    </tr>\n",
       "    <tr>\n",
       "      <th>3</th>\n",
       "      <td>Lhotse</td>\n",
       "      <td>8516</td>\n",
       "      <td>Nepal/China</td>\n",
       "      <td>1956</td>\n",
       "      <td>610</td>\n",
       "    </tr>\n",
       "    <tr>\n",
       "      <th>4</th>\n",
       "      <td>Makalu</td>\n",
       "      <td>8485</td>\n",
       "      <td>Nepal/China</td>\n",
       "      <td>1955</td>\n",
       "      <td>2378</td>\n",
       "    </tr>\n",
       "    <tr>\n",
       "      <th>5</th>\n",
       "      <td>Cho Oyu</td>\n",
       "      <td>8188</td>\n",
       "      <td>Nepal/China</td>\n",
       "      <td>1954</td>\n",
       "      <td>2340</td>\n",
       "    </tr>\n",
       "    <tr>\n",
       "      <th>6</th>\n",
       "      <td>Dhaulagiri</td>\n",
       "      <td>8167</td>\n",
       "      <td>Nepal</td>\n",
       "      <td>1960</td>\n",
       "      <td>3357</td>\n",
       "    </tr>\n",
       "    <tr>\n",
       "      <th>7</th>\n",
       "      <td>Manaslu</td>\n",
       "      <td>8163</td>\n",
       "      <td>Nepal</td>\n",
       "      <td>1956</td>\n",
       "      <td>3092</td>\n",
       "    </tr>\n",
       "    <tr>\n",
       "      <th>8</th>\n",
       "      <td>Nanga Parbat</td>\n",
       "      <td>8126</td>\n",
       "      <td>Pakistan</td>\n",
       "      <td>1953</td>\n",
       "      <td>4608</td>\n",
       "    </tr>\n",
       "    <tr>\n",
       "      <th>9</th>\n",
       "      <td>Annapurna</td>\n",
       "      <td>8091</td>\n",
       "      <td>Nepal</td>\n",
       "      <td>1950</td>\n",
       "      <td>2984</td>\n",
       "    </tr>\n",
       "  </tbody>\n",
       "</table>\n",
       "</div>"
      ],
      "text/plain": [
       "       hill name  height        location  first ascent year  prominence\n",
       "0        Everest    8848     Nepal/China               1953        8848\n",
       "1             K2    8611  Pakistan/China               1954        4017\n",
       "2  Kangchenjunga    8586     Nepal/India               1955        3922\n",
       "3         Lhotse    8516     Nepal/China               1956         610\n",
       "4         Makalu    8485     Nepal/China               1955        2378\n",
       "5        Cho Oyu    8188     Nepal/China               1954        2340\n",
       "6     Dhaulagiri    8167           Nepal               1960        3357\n",
       "7        Manaslu    8163           Nepal               1956        3092\n",
       "8   Nanga Parbat    8126        Pakistan               1953        4608\n",
       "9      Annapurna    8091           Nepal               1950        2984"
      ]
     },
     "execution_count": 631,
     "metadata": {},
     "output_type": "execute_result"
    }
   ],
   "source": [
    "#Your code:\n",
    "\n",
    "df = pd.DataFrame(hill_data)\n",
    "\n",
    "df"
   ]
  },
  {
   "cell_type": "markdown",
   "metadata": {},
   "source": [
    "#### Save your hill_pd to csv"
   ]
  },
  {
   "cell_type": "code",
   "execution_count": 633,
   "metadata": {},
   "outputs": [],
   "source": [
    "# Your code:\n",
    "\n",
    "df.to_csv('lab1.csv', index=False)"
   ]
  },
  {
   "cell_type": "markdown",
   "metadata": {},
   "source": [
    "#### Read your hill data from your csv"
   ]
  },
  {
   "cell_type": "code",
   "execution_count": 635,
   "metadata": {},
   "outputs": [
    {
     "data": {
      "text/html": [
       "<div>\n",
       "<style scoped>\n",
       "    .dataframe tbody tr th:only-of-type {\n",
       "        vertical-align: middle;\n",
       "    }\n",
       "\n",
       "    .dataframe tbody tr th {\n",
       "        vertical-align: top;\n",
       "    }\n",
       "\n",
       "    .dataframe thead th {\n",
       "        text-align: right;\n",
       "    }\n",
       "</style>\n",
       "<table border=\"1\" class=\"dataframe\">\n",
       "  <thead>\n",
       "    <tr style=\"text-align: right;\">\n",
       "      <th></th>\n",
       "      <th>hill name</th>\n",
       "      <th>height</th>\n",
       "      <th>location</th>\n",
       "      <th>first ascent year</th>\n",
       "      <th>prominence</th>\n",
       "    </tr>\n",
       "  </thead>\n",
       "  <tbody>\n",
       "    <tr>\n",
       "      <th>0</th>\n",
       "      <td>Everest</td>\n",
       "      <td>8848</td>\n",
       "      <td>Nepal/China</td>\n",
       "      <td>1953</td>\n",
       "      <td>8848</td>\n",
       "    </tr>\n",
       "    <tr>\n",
       "      <th>1</th>\n",
       "      <td>K2</td>\n",
       "      <td>8611</td>\n",
       "      <td>Pakistan/China</td>\n",
       "      <td>1954</td>\n",
       "      <td>4017</td>\n",
       "    </tr>\n",
       "    <tr>\n",
       "      <th>2</th>\n",
       "      <td>Kangchenjunga</td>\n",
       "      <td>8586</td>\n",
       "      <td>Nepal/India</td>\n",
       "      <td>1955</td>\n",
       "      <td>3922</td>\n",
       "    </tr>\n",
       "    <tr>\n",
       "      <th>3</th>\n",
       "      <td>Lhotse</td>\n",
       "      <td>8516</td>\n",
       "      <td>Nepal/China</td>\n",
       "      <td>1956</td>\n",
       "      <td>610</td>\n",
       "    </tr>\n",
       "    <tr>\n",
       "      <th>4</th>\n",
       "      <td>Makalu</td>\n",
       "      <td>8485</td>\n",
       "      <td>Nepal/China</td>\n",
       "      <td>1955</td>\n",
       "      <td>2378</td>\n",
       "    </tr>\n",
       "    <tr>\n",
       "      <th>5</th>\n",
       "      <td>Cho Oyu</td>\n",
       "      <td>8188</td>\n",
       "      <td>Nepal/China</td>\n",
       "      <td>1954</td>\n",
       "      <td>2340</td>\n",
       "    </tr>\n",
       "    <tr>\n",
       "      <th>6</th>\n",
       "      <td>Dhaulagiri</td>\n",
       "      <td>8167</td>\n",
       "      <td>Nepal</td>\n",
       "      <td>1960</td>\n",
       "      <td>3357</td>\n",
       "    </tr>\n",
       "    <tr>\n",
       "      <th>7</th>\n",
       "      <td>Manaslu</td>\n",
       "      <td>8163</td>\n",
       "      <td>Nepal</td>\n",
       "      <td>1956</td>\n",
       "      <td>3092</td>\n",
       "    </tr>\n",
       "    <tr>\n",
       "      <th>8</th>\n",
       "      <td>Nanga Parbat</td>\n",
       "      <td>8126</td>\n",
       "      <td>Pakistan</td>\n",
       "      <td>1953</td>\n",
       "      <td>4608</td>\n",
       "    </tr>\n",
       "    <tr>\n",
       "      <th>9</th>\n",
       "      <td>Annapurna</td>\n",
       "      <td>8091</td>\n",
       "      <td>Nepal</td>\n",
       "      <td>1950</td>\n",
       "      <td>2984</td>\n",
       "    </tr>\n",
       "  </tbody>\n",
       "</table>\n",
       "</div>"
      ],
      "text/plain": [
       "       hill name  height        location  first ascent year  prominence\n",
       "0        Everest    8848     Nepal/China               1953        8848\n",
       "1             K2    8611  Pakistan/China               1954        4017\n",
       "2  Kangchenjunga    8586     Nepal/India               1955        3922\n",
       "3         Lhotse    8516     Nepal/China               1956         610\n",
       "4         Makalu    8485     Nepal/China               1955        2378\n",
       "5        Cho Oyu    8188     Nepal/China               1954        2340\n",
       "6     Dhaulagiri    8167           Nepal               1960        3357\n",
       "7        Manaslu    8163           Nepal               1956        3092\n",
       "8   Nanga Parbat    8126        Pakistan               1953        4608\n",
       "9      Annapurna    8091           Nepal               1950        2984"
      ]
     },
     "execution_count": 635,
     "metadata": {},
     "output_type": "execute_result"
    }
   ],
   "source": [
    "# your code\n",
    "\n",
    "df_from_csv = pd.read_csv('lab1.csv')\n",
    "\n",
    "df_from_csv"
   ]
  },
  {
   "cell_type": "markdown",
   "metadata": {},
   "source": [
    "#### Please select hills with an altitude higher than 8100 meters and express them in the form of a bar graph."
   ]
  },
  {
   "cell_type": "code",
   "execution_count": 637,
   "metadata": {},
   "outputs": [
    {
     "data": {
      "text/html": [
       "<div>\n",
       "<style scoped>\n",
       "    .dataframe tbody tr th:only-of-type {\n",
       "        vertical-align: middle;\n",
       "    }\n",
       "\n",
       "    .dataframe tbody tr th {\n",
       "        vertical-align: top;\n",
       "    }\n",
       "\n",
       "    .dataframe thead th {\n",
       "        text-align: right;\n",
       "    }\n",
       "</style>\n",
       "<table border=\"1\" class=\"dataframe\">\n",
       "  <thead>\n",
       "    <tr style=\"text-align: right;\">\n",
       "      <th></th>\n",
       "      <th>hill name</th>\n",
       "      <th>height</th>\n",
       "      <th>location</th>\n",
       "      <th>first ascent year</th>\n",
       "      <th>prominence</th>\n",
       "    </tr>\n",
       "  </thead>\n",
       "  <tbody>\n",
       "    <tr>\n",
       "      <th>0</th>\n",
       "      <td>Everest</td>\n",
       "      <td>8848</td>\n",
       "      <td>Nepal/China</td>\n",
       "      <td>1953</td>\n",
       "      <td>8848</td>\n",
       "    </tr>\n",
       "    <tr>\n",
       "      <th>1</th>\n",
       "      <td>K2</td>\n",
       "      <td>8611</td>\n",
       "      <td>Pakistan/China</td>\n",
       "      <td>1954</td>\n",
       "      <td>4017</td>\n",
       "    </tr>\n",
       "    <tr>\n",
       "      <th>2</th>\n",
       "      <td>Kangchenjunga</td>\n",
       "      <td>8586</td>\n",
       "      <td>Nepal/India</td>\n",
       "      <td>1955</td>\n",
       "      <td>3922</td>\n",
       "    </tr>\n",
       "    <tr>\n",
       "      <th>3</th>\n",
       "      <td>Lhotse</td>\n",
       "      <td>8516</td>\n",
       "      <td>Nepal/China</td>\n",
       "      <td>1956</td>\n",
       "      <td>610</td>\n",
       "    </tr>\n",
       "    <tr>\n",
       "      <th>4</th>\n",
       "      <td>Makalu</td>\n",
       "      <td>8485</td>\n",
       "      <td>Nepal/China</td>\n",
       "      <td>1955</td>\n",
       "      <td>2378</td>\n",
       "    </tr>\n",
       "    <tr>\n",
       "      <th>5</th>\n",
       "      <td>Cho Oyu</td>\n",
       "      <td>8188</td>\n",
       "      <td>Nepal/China</td>\n",
       "      <td>1954</td>\n",
       "      <td>2340</td>\n",
       "    </tr>\n",
       "    <tr>\n",
       "      <th>6</th>\n",
       "      <td>Dhaulagiri</td>\n",
       "      <td>8167</td>\n",
       "      <td>Nepal</td>\n",
       "      <td>1960</td>\n",
       "      <td>3357</td>\n",
       "    </tr>\n",
       "    <tr>\n",
       "      <th>7</th>\n",
       "      <td>Manaslu</td>\n",
       "      <td>8163</td>\n",
       "      <td>Nepal</td>\n",
       "      <td>1956</td>\n",
       "      <td>3092</td>\n",
       "    </tr>\n",
       "    <tr>\n",
       "      <th>8</th>\n",
       "      <td>Nanga Parbat</td>\n",
       "      <td>8126</td>\n",
       "      <td>Pakistan</td>\n",
       "      <td>1953</td>\n",
       "      <td>4608</td>\n",
       "    </tr>\n",
       "  </tbody>\n",
       "</table>\n",
       "</div>"
      ],
      "text/plain": [
       "       hill name  height        location  first ascent year  prominence\n",
       "0        Everest    8848     Nepal/China               1953        8848\n",
       "1             K2    8611  Pakistan/China               1954        4017\n",
       "2  Kangchenjunga    8586     Nepal/India               1955        3922\n",
       "3         Lhotse    8516     Nepal/China               1956         610\n",
       "4         Makalu    8485     Nepal/China               1955        2378\n",
       "5        Cho Oyu    8188     Nepal/China               1954        2340\n",
       "6     Dhaulagiri    8167           Nepal               1960        3357\n",
       "7        Manaslu    8163           Nepal               1956        3092\n",
       "8   Nanga Parbat    8126        Pakistan               1953        4608"
      ]
     },
     "execution_count": 637,
     "metadata": {},
     "output_type": "execute_result"
    }
   ],
   "source": [
    "# your code:\n",
    "\n",
    "selected_hill = df_from_csv[df_from_csv[\"height\"] > 8100]\n",
    "\n",
    "selected_hill"
   ]
  },
  {
   "cell_type": "code",
   "execution_count": 638,
   "metadata": {},
   "outputs": [
    {
     "data": {
      "text/plain": [
       "<Axes: title={'center': 'hill heights in meters'}, xlabel='hill name'>"
      ]
     },
     "execution_count": 638,
     "metadata": {},
     "output_type": "execute_result"
    },
    {
     "data": {
      "image/png": "[encoded data removed]",
      "text/plain": [
       "<Figure size 640x480 with 1 Axes>"
      ]
     },
     "metadata": {},
     "output_type": "display_data"
    }
   ],
   "source": [
    "# Visualization\n",
    "# Need to add x,y labels, titles and grid.\n",
    "# Please add your name on graph titles.\n",
    "\n",
    "# your code\n",
    "\n",
    "# ylim=(8000, 9000) to make the height differences easier to see\n",
    "selected_hill.plot(title=\"hill heights in meters\", x=\"hill name\", y=\"height\", ylim=(8000, 9000), kind=\"bar\")"
   ]
  },
  {
   "cell_type": "markdown",
   "metadata": {},
   "source": [
    "#### For Graduate students only (CS557)\n",
    "\n",
    "Please add another set of visualizations using the **Prominence** data and explain their significance."
   ]
  },
  {
   "cell_type": "code",
   "execution_count": null,
   "metadata": {},
   "outputs": [],
   "source": []
  }
 ],
 "metadata": {
  "kernelspec": {
   "display_name": "Python [conda env:base] *",
   "language": "python",
   "name": "conda-base-py"
  },
  "language_info": {
   "codemirror_mode": {
    "name": "ipython",
    "version": 3
   },
   "file_extension": ".py",
   "mimetype": "text/x-python",
   "name": "python",
   "nbconvert_exporter": "python",
   "pygments_lexer": "ipython3",
   "version": "3.12.7"
  }
 },
 "nbformat": 4,
 "nbformat_minor": 4
}
