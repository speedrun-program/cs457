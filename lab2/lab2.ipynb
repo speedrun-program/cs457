{
 "cells": [
  {
   "cell_type": "markdown",
   "id": "a4e97256",
   "metadata": {},
   "source": [
    "# **Lab Exercise: Linear and Logistic Regression**"
   ]
  },
  {
   "cell_type": "markdown",
   "id": "5f13e57d-2212-4089-9e8d-0776dfba9eb7",
   "metadata": {},
   "source": [
    "## **Linear Regression Construction** "
   ]
  },
  {
   "cell_type": "markdown",
   "id": "4f702d80",
   "metadata": {},
   "source": [
    "#### **Section 1: Setting Up and Importing Libraries**\n",
    "*Objective:* Load the required `Python libraries`.\n"
   ]
  },
  {
   "cell_type": "code",
   "execution_count": 4,
   "id": "8b5c3769-8e6d-4774-86db-612a37163e71",
   "metadata": {},
   "outputs": [],
   "source": [
    "import numpy as np\n",
    "import pandas as pd\n",
    "import matplotlib.pyplot as plt"
   ]
  },
  {
   "cell_type": "markdown",
   "id": "ce42d797-2458-4e79-9c04-ff6264334aa1",
   "metadata": {},
   "source": [
    "#### **Section 2: Linear Regression Data Preparation**\n",
    "\n",
    "*Objective:* Create a dataset for linear regression.\n",
    "\n",
    "Task: Write the code to:\n",
    "\n",
    "Create a dataset with features and target variables for linear regression.\n",
    "Visualize the data using Matplotlib.\n"
   ]
  },
  {
   "cell_type": "code",
   "execution_count": 6,
   "id": "6eb0752f-ad50-42a9-8a61-ccb8e56408c8",
   "metadata": {},
   "outputs": [
    {
     "data": {
      "image/png": "[encoded data removed]",
      "text/plain": [
       "<Figure size 640x480 with 1 Axes>"
      ]
     },
     "metadata": {},
     "output_type": "display_data"
    }
   ],
   "source": [
    "# Generate synthetic data for linear regression\n",
    "np.random.seed(42)  # For reproducibility\n",
    "X = np.random.randint(1, 100, 20)  # Features (independent variable)\n",
    "y = 3 * X + 7 + np.random.normal(0, 15, 20)  # Target with noise\n",
    "\n",
    "# Visualize the data\n",
    "\n",
    "# You need to use scatter chart to Visualize the input dataset X & y\n",
    "# Your chart need to label the x-axis, y-axis and title\n",
    "# Your chart should use grid\n",
    "\n",
    "# Your code\n",
    "\n",
    "plt.scatter(X, y)\n",
    "\n",
    "plt.xlabel('x axis')\n",
    "plt.ylabel('y axis')\n",
    "plt.title('Jack McDonald')\n",
    "\n",
    "plt.grid(True)\n",
    "\n",
    "plt.show()\n"
   ]
  },
  {
   "cell_type": "markdown",
   "id": "796b61db-a62b-49b8-9469-759c4d606496",
   "metadata": {},
   "source": [
    "#### **Section 3: Implementing Linear Regression**\n",
    "\n",
    "*Objective:* Practice linear regression construction.\n",
    "\n",
    "Task: Write the code to:\n",
    "\n",
    "Write a Linear Regression function to minimize the cost function and find the optimal parameters.\n",
    "\n",
    "\n",
    "For **Undergraduate students** (CS457): You can **choose** any of the following methods to implement it.\n",
    "1. You can use any scikit-learn library.\n",
    "2. Manually write cost function & gradient descent function to implement it.\n",
    "\n",
    "For **Graduate students** (CS557): You have to implement it by\n",
    "1. Manually write cost function & gradient descent function to implement it.\n"
   ]
  },
  {
   "cell_type": "code",
   "execution_count": 8,
   "id": "569087ba-89de-4a5e-94f2-fba6d1ee4580",
   "metadata": {},
   "outputs": [
    {
     "name": "stdout",
     "output_type": "stream",
     "text": [
      "coefficient:  2.9241599679036803\n",
      "intercept:    3.1375660847499205\n"
     ]
    }
   ],
   "source": [
    "# Your code for linear regression model\n",
    "\n",
    "# Sklearn model\n",
    "from sklearn.linear_model import LinearRegression\n",
    "\n",
    "# Prepare data\n",
    "X = X.reshape(-1, 1)\n",
    "\n",
    "# Building the Model\n",
    "model = LinearRegression()\n",
    "model.fit(X, y)\n",
    "\n",
    "# Review Model parameter\n",
    "print(f\"coefficient:  {model.coef_[0]}\\nintercept:    {model.intercept_}\")"
   ]
  },
  {
   "cell_type": "code",
   "execution_count": 9,
   "id": "0a60ce07-9050-4863-9a88-f538137313fd",
   "metadata": {},
   "outputs": [],
   "source": [
    "# Your code for linear regression model\n",
    "\n",
    "# Manually write cost function & gradient descent \n",
    "\n",
    "# Reshape X to include a bias term (column of ones for the intercept) by np.column_stack\n",
    "# your code\n",
    "\n",
    "# Define the cost function for linear regression\n",
    "def compute_cost(X, y, theta):\n",
    "    \"\"\"\n",
    "    Compute the cost function for linear regression.\n",
    "    \"\"\"\n",
    "    # your code \n",
    "\n",
    "    return cost\n",
    "    \n",
    "   \n",
    "\n",
    "# Define the gradient descent function\n",
    "def gradient_descent(X, y, alpha, iterations):\n",
    "    \"\"\"\n",
    "    Perform gradient descent to minimize the cost function.\n",
    "    \"\"\"\n",
    "    \n",
    "    theta = np.zeros(2)  # Initialize theta (matching number of features)\n",
    "    m = len(y)  # Number of training examples\n",
    "\n",
    "    \n",
    "\n",
    "    # Iterate to update theta with iterations\n",
    "    # your code \n",
    "    \n",
    "\n",
    "    return theta\n",
    "    \n",
    "\n",
    "\n",
    "# Number of iterations for gradient descent\n",
    "iterations = 5000\n",
    "\n",
    "# Learning rate for gradient descent\n",
    "alpha = 0.0001\n",
    "\n",
    "# Call the gradient descent function to compute optimized parameters\n",
    "#theta = # your code\n",
    "\n",
    "# Compute the cost using the optimized parameters\n",
    "#cost = # your code\n",
    "\n",
    "# Print the results\n",
    "#print(\"Optimized theta (parameters):\", theta)  # Optimized values for theta (intercept and slope)\n",
    "#print(\"Final cost:\", cost)  # Final cost value to evaluate the fit"
   ]
  },
  {
   "cell_type": "markdown",
   "id": "7e9c2e68-0803-43b1-ac8c-8ca765d61b85",
   "metadata": {},
   "source": [
    "### **Section 4: Visualizing the Linear Regression Line**\n",
    "\n",
    "*Objective:* Plot the regression line with the original data.\n",
    "\n",
    "Task: Plot the data points and the fitted regression line."
   ]
  },
  {
   "cell_type": "code",
   "execution_count": 11,
   "id": "c1af75b3-958b-471a-90b2-1a9c6d40841c",
   "metadata": {},
   "outputs": [
    {
     "data": {
      "image/png": "[encoded data removed]",
      "text/plain": [
       "<Figure size 640x480 with 1 Axes>"
      ]
     },
     "metadata": {},
     "output_type": "display_data"
    }
   ],
   "source": [
    "# Compare predictions with actual values\n",
    "# y_pred = np.dot(X, theta)\n",
    "\n",
    "\n",
    "# Plot the data and regression line\n",
    "# You need to use scatter chart to Visualize the input dataset X & y\n",
    "# Your chart should plot the regression line using theta_optimal predictions \n",
    "# Your chart need to label the x-axis, y-axis and title\n",
    "# Your chart should use grid\n",
    "# Please add your name to the graph title\n",
    "\n",
    "# Your code: \n",
    "plt.scatter(X, y)\n",
    "\n",
    "plt.xlabel('x axis')\n",
    "plt.ylabel('y axis')\n",
    "plt.title('Jack McDonald')\n",
    "\n",
    "plt.grid(True)\n",
    "\n",
    "# the scatter plot from before, but with a linear regression line through it\n",
    "plt.plot(X, model.coef_ * X + model.intercept_, \"r\")\n",
    "\n",
    "plt.show()"
   ]
  },
  {
   "cell_type": "markdown",
   "id": "d0db4e3a-42a2-4cdc-a4f0-d702babd213a",
   "metadata": {},
   "source": [
    "## **Logistic Regression Construction** "
   ]
  },
  {
   "cell_type": "markdown",
   "id": "52bc9e31-8eea-4939-9f9b-99238a5afbb2",
   "metadata": {},
   "source": [
    "#### **Section 1: Logistic Regression Data Preparation**\n",
    "\n",
    "*Objective:* Prepare data for logistic regression.\n",
    "\n",
    "Task: Write the code to:\n",
    "\n",
    "Create synthetic data for binary classification.\n",
    "Visualize the data."
   ]
  },
  {
   "cell_type": "markdown",
   "id": "5576a731-78cc-45a5-aaba-0a327a833314",
   "metadata": {},
   "source": [
    "#### Dataset Description\n",
    "\n",
    "Study_hour_Data.csv - The dataset simulates a scenario where students' chances of passing a course are influenced by their study habits and class participation. It contains 200 observations and the following three columns:\n",
    "\n",
    "\n",
    "**Hours of Study:**\n",
    "Integer values representing the number of hours a student spends studying in a week.\n",
    "Range: 0 to 9.\n",
    "\n",
    "**Class Participation:**\n",
    "Float values between 0 and 1, representing the level of engagement in class activities.\n",
    "Higher values indicate greater participation.\n",
    "\n",
    "**Passed:**\n",
    "Binary target variable indicating whether the student passed the course:\n",
    "1: Passed.\n",
    "0: Did not pass.\n",
    "Determined based on a weighted combination of Hours of Study and Class Participation (with added noise), with a threshold value of 5."
   ]
  },
  {
   "cell_type": "code",
   "execution_count": 15,
   "id": "ddb97210-5bc9-41b9-ae6c-52c1dd6d517c",
   "metadata": {},
   "outputs": [
    {
     "name": "stdout",
     "output_type": "stream",
     "text": [
      "<class 'pandas.core.frame.DataFrame'>\n",
      "RangeIndex: 200 entries, 0 to 199\n",
      "Data columns (total 3 columns):\n",
      " #   Column               Non-Null Count  Dtype  \n",
      "---  ------               --------------  -----  \n",
      " 0   Hours of Study       200 non-null    int64  \n",
      " 1   Class Participation  200 non-null    float64\n",
      " 2   Passed               200 non-null    int64  \n",
      "dtypes: float64(1), int64(2)\n",
      "memory usage: 4.8 KB\n",
      "None\n",
      "       Hours of Study  Class Participation      Passed\n",
      "count      200.000000           200.000000  200.000000\n",
      "mean         4.115000             0.505828    0.750000\n",
      "std          2.751295             0.289315    0.434099\n",
      "min          0.000000             0.009934    0.000000\n",
      "25%          2.000000             0.248919    0.750000\n",
      "50%          4.000000             0.492630    1.000000\n",
      "75%          6.000000             0.771555    1.000000\n",
      "max          9.000000             0.992191    1.000000\n"
     ]
    }
   ],
   "source": [
    "import pandas as pd\n",
    "#read data from Pandas \n",
    "\n",
    "# Load dataset\n",
    "# please use Study_hour_Data.csv as your target data\n",
    "df = pd.read_csv('Study_hour_Data.csv')\n",
    "\n",
    "\n",
    "# Display basic information\n",
    "print(df.info())\n",
    "print(df.describe())\n",
    "\n",
    "#Generate your training data X & y\n",
    "X = df[\"Hours of Study\"].to_numpy() #use column Hours of Study\n",
    "y = df[\"Passed\"].to_numpy() #use columns Passed"
   ]
  },
  {
   "cell_type": "markdown",
   "id": "ee3884a0-0234-49c0-b9c2-039d80f3c444",
   "metadata": {},
   "source": [
    "#### **Section 2: Visualize the data**"
   ]
  },
  {
   "cell_type": "code",
   "execution_count": 17,
   "id": "7c8183a3-e11b-46c0-9ddf-bdee3cc0bce8",
   "metadata": {},
   "outputs": [
    {
     "data": {
      "image/png": "[encoded data removed]",
      "text/plain": [
       "<Figure size 640x480 with 1 Axes>"
      ]
     },
     "metadata": {},
     "output_type": "display_data"
    }
   ],
   "source": [
    "# Visualize the data\n",
    "\n",
    "# You need to use scatter chart to Visualize the input dataset X & y\n",
    "# Your chart need to label the x-axis, y-axis and title\n",
    "# Your chart should use grid\n",
    "# Please add your name to the graph title\n",
    "\n",
    "# Your code: \n",
    "plt.scatter(X, y)\n",
    "\n",
    "plt.xlabel('x axis')\n",
    "plt.ylabel('y axis')\n",
    "plt.title('Jack McDonald')\n",
    "\n",
    "plt.grid(True)\n",
    "\n",
    "plt.xlim(right=10)\n",
    "\n",
    "plt.show()\n"
   ]
  },
  {
   "cell_type": "markdown",
   "id": "5317d5a8-c76a-46a3-ab2a-a9ce54b1e51f",
   "metadata": {},
   "source": [
    "#### **Section 3: Implementing Logistic Regression**\n",
    "\n",
    "*Objective:* Implement logistic regression.\n",
    "\n",
    "For **Undergraduate students** (CS457): You can **choose** any of the following methods to implement it.\n",
    "1. You can use any scikit-learn library.\n",
    "2. Manually write cost function & gradient descent function to implement it. \n",
    "\n",
    "For **Graduate students** (CS557): You have to implement it by\n",
    "1. Manually write cost function & gradient descent function to implement it.\n",
    "\n",
    "\n",
    "Then, use the scipy.optimize library to fit the logistic regression model."
   ]
  },
  {
   "cell_type": "code",
   "execution_count": 19,
   "id": "033c773f-d7e2-4a2a-90b2-4ccbb583df56",
   "metadata": {},
   "outputs": [
    {
     "name": "stdout",
     "output_type": "stream",
     "text": [
      "coefficient:  2.6093322752342663\n",
      "intercept:    -4.680909090605349\n"
     ]
    }
   ],
   "source": [
    "# Your code for logistic regression model\n",
    "\n",
    "# Sklearn model\n",
    "from sklearn.linear_model import LogisticRegression\n",
    "\n",
    "# Prepare data\n",
    "X = X.reshape(-1, 1)\n",
    "\n",
    "# Building the Model\n",
    "model = LogisticRegression()\n",
    "model.fit(X, y)\n",
    "\n",
    "# Review Model parameter\n",
    "print(f\"coefficient:  {model.coef_[0][0]}\\nintercept:    {model.intercept_[0]}\")"
   ]
  },
  {
   "cell_type": "code",
   "execution_count": 20,
   "id": "4623ce3e-1131-4f91-b9f5-33e6258b1bd9",
   "metadata": {},
   "outputs": [],
   "source": [
    "# Your logistic regression model\n",
    "\n",
    "# Define the sigmoid function\n",
    "def sigmoid(z):\n",
    "    pass\n",
    "    \n",
    "     \n",
    "\n",
    "# Define the cost function for logistic regression\n",
    "def cost_function(theta, X, y):\n",
    "    pass \n",
    "   \n",
    "\n",
    "# Define the gradient function\n",
    "def gradient(theta, X, y):\n",
    "    pass\n",
    "    "
   ]
  },
  {
   "cell_type": "code",
   "execution_count": 21,
   "id": "3e835e8c-8d87-4630-95ac-2fd002683d82",
   "metadata": {},
   "outputs": [],
   "source": [
    "# Train your model\n",
    "\n",
    "    \n",
    "# Add a bias term (intercept) to X \n",
    "\n",
    "\n",
    "# Initialize theta (parameters) to zeros\n",
    "\n",
    "\n",
    "# Minimize the cost function using scipy.optimize\n",
    "\n",
    "\n",
    "# Print the optimized parameters (theta)\n",
    "#print(\"Optimized theta (parameters):\", optimal_theta)"
   ]
  },
  {
   "cell_type": "markdown",
   "id": "3c5beb99-6509-4a52-9f6e-f83ff2773ce3",
   "metadata": {},
   "source": [
    "#### **Section 4: Evaluate the model**\n",
    "\n",
    "*Objective:* Evaluate the model with the fitted data.\n",
    "\n",
    "Task: build the Predict function, and Calculate accuracy."
   ]
  },
  {
   "cell_type": "code",
   "execution_count": 23,
   "id": "a69d76b1-c489-475b-bedb-baa20ecad40c",
   "metadata": {},
   "outputs": [
    {
     "name": "stdout",
     "output_type": "stream",
     "text": [
      "pass or fail:\n",
      "[[0 0]\n",
      " [1 0]\n",
      " [2 1]\n",
      " [3 1]\n",
      " [4 1]\n",
      " [5 1]\n",
      " [6 1]\n",
      " [7 1]\n",
      " [8 1]\n",
      " [9 1]]\n",
      "\n",
      "probabilities:\n",
      "[[0.         0.00918543]\n",
      " [1.         0.11189025]\n",
      " [2.         0.63129013]\n",
      " [3.         0.95879382]\n",
      " [4.         0.99684756]\n",
      " [5.         0.99976735]\n",
      " [6.         0.99998288]\n",
      " [7.         0.99999874]\n",
      " [8.         0.99999991]\n",
      " [9.         0.99999999]]\n"
     ]
    }
   ],
   "source": [
    "# Predictions:\n",
    "tests = np.arange(0, 10)\n",
    "\n",
    "tests_reshaped = tests.reshape(-1, 1)\n",
    "\n",
    "pass_fail_predictions = model.predict(tests_reshaped)\n",
    "probability_predictions = model.predict_proba(tests_reshaped)\n",
    "\n",
    "np.set_printoptions(suppress=True)\n",
    "print(\n",
    "    \"pass or fail:\",\n",
    "    np.column_stack((tests, pass_fail_predictions)),\n",
    "    \"\\nprobabilities:\",\n",
    "    np.column_stack((tests, probability_predictions[:, 1])),\n",
    "    sep=\"\\n\"\n",
    ")\n",
    "np.set_printoptions(suppress=False)"
   ]
  },
  {
   "cell_type": "code",
   "execution_count": 24,
   "id": "336aa148-2d43-47d3-83e7-e8bd260f0f76",
   "metadata": {},
   "outputs": [
    {
     "name": "stdout",
     "output_type": "stream",
     "text": [
      "Accuracy: 94.5 %\n"
     ]
    }
   ],
   "source": [
    "# Calculate accuracy\n",
    "accuracy = model.score(X, y)\n",
    "print(\"Accuracy:\", accuracy * 100, \"%\")"
   ]
  },
  {
   "cell_type": "markdown",
   "id": "d45ba386-8248-41f5-9112-0ba46875eda5",
   "metadata": {},
   "source": [
    "### **Section 5: Visualizing Logistic Regression Fit**\n",
    "\n",
    "*Objective:* Plot the logistic regression fit with the original data.\n",
    "\n",
    "Task: Plot the sigmoid curve over the range of input features."
   ]
  },
  {
   "cell_type": "code",
   "execution_count": 26,
   "id": "7f29587c-cd62-4ea6-9226-ea904016778b",
   "metadata": {},
   "outputs": [
    {
     "data": {
      "image/png": "[encoded data removed]",
      "text/plain": [
       "<Figure size 640x480 with 1 Axes>"
      ]
     },
     "metadata": {},
     "output_type": "display_data"
    }
   ],
   "source": [
    "# Plot the data and regression line\n",
    "# You need to use scatter chart to Visualize the input dataset X & y\n",
    "# Your chart should plot the regression line using theta_optimal predictions \n",
    "# Your chart need to label the x-axis, y-axis and title\n",
    "# Your chart should use grid\n",
    "# Please add your name to the graph title\n",
    "\n",
    "def sigmoid_version_2(x, intercept, coefficient):\n",
    "    return 1 / (1 + np.exp(-(intercept + coefficient * x)))\n",
    "\n",
    "linspace_array = np.linspace(0, 10, 100)\n",
    "\n",
    "predicted_probability = sigmoid_version_2(linspace_array, model.intercept_[0], model.coef_[0][0])\n",
    "\n",
    "plt.scatter(X, y)\n",
    "\n",
    "plt.xlabel('x axis')\n",
    "plt.ylabel('y axis')\n",
    "plt.title('Jack McDonald')\n",
    "\n",
    "plt.grid(True)\n",
    "\n",
    "# the scatter plot from before, but with a logistic regression line through it\n",
    "plt.plot(linspace_array, predicted_probability, \"r\")\n",
    "\n",
    "plt.show()\n"
   ]
  },
  {
   "cell_type": "code",
   "execution_count": null,
   "id": "27191b69-a42c-40df-ab8e-a3ed86abc7a5",
   "metadata": {},
   "outputs": [],
   "source": []
  },
  {
   "cell_type": "code",
   "execution_count": null,
   "id": "e5dc5c4c-8f00-4960-943c-097a5f6c576e",
   "metadata": {},
   "outputs": [],
   "source": []
  }
 ],
 "metadata": {
  "kernelspec": {
   "display_name": "Python [conda env:base] *",
   "language": "python",
   "name": "conda-base-py"
  },
  "language_info": {
   "codemirror_mode": {
    "name": "ipython",
    "version": 3
   },
   "file_extension": ".py",
   "mimetype": "text/x-python",
   "name": "python",
   "nbconvert_exporter": "python",
   "pygments_lexer": "ipython3",
   "version": "3.12.7"
  }
 },
 "nbformat": 4,
 "nbformat_minor": 5
}
